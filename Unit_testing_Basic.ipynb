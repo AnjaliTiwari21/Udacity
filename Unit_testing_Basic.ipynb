{
 "cells": [
  {
   "cell_type": "code",
   "execution_count": 17,
   "id": "a454dcd3",
   "metadata": {},
   "outputs": [],
   "source": [
    "#Basic Example for unit testing\n",
    "def new_sum(iterable):\n",
    "    result = 0\n",
    "    for val in iterable:\n",
    "        result += val\n",
    "    return result\n",
    "#Both the next two functions are created for unit testing\n",
    "def test_new_sum_list():\n",
    "    assert new_sum([1, 2, 3]) == 6\n",
    "    \n",
    "def test_new_sum_tuple():\n",
    "    assert new_sum((-1, 2, 3)) == 6\n"
   ]
  },
  {
   "cell_type": "code",
   "execution_count": 16,
   "id": "f1cef3b9",
   "metadata": {},
   "outputs": [
    {
     "name": "stdout",
     "output_type": "stream",
     "text": [
      "{0: 3, 1: 4}\n",
      "{0: 3.0, 1: 4.0}\n"
     ]
    }
   ],
   "source": [
    "#Another Function if you want to perform unit testing in data science project\n",
    "import pandas as pd\n",
    "\n",
    "def load_data():\n",
    "    data = pd.DataFrame([[0, 2, 7, 4, 8],\n",
    "                         [1, 7, 6, 3, 7],\n",
    "                         [1, 1, \"None\", 8, 9],\n",
    "                         [0, 2, 3, \"None\", 6],\n",
    "                         [0, 5, 1, 4, 9]], \n",
    "                        columns = [f\"feature_{i}\" if i!=0 \n",
    "                                  else \"class\" for i in range(5)])\n",
    "    return data\n",
    "\n",
    "def aggregate_mean(df, column):\n",
    "    return df.groupby(\"class\")[column].mean().to_dict()\n",
    "\n",
    "\n",
    "data = load_data()\n",
    "expected = {0: 3, 1: 4}\n",
    "print(expected)\n",
    "result = aggregate_mean(data, \"feature_1\")\n",
    "print(result)"
   ]
  },
  {
   "cell_type": "code",
   "execution_count": 15,
   "id": "1fc1c903",
   "metadata": {},
   "outputs": [],
   "source": [
    "# Testing for a single feature at a time\n",
    "#Running pytest script in the folder which contains your Unit_testing_Basic.py file will help in finding the number of tests failed and passed\n",
    "\n",
    "def test_aggregate_mean_feature_1():   \n",
    "    data = load_data()\n",
    "    expected = {0: 3, 1: 4}\n",
    "    result = aggregate_mean(data, \"feature_1\")\n",
    "    assert expected == result\n",
    "    \n",
    "  \n"
   ]
  },
  {
   "cell_type": "code",
   "execution_count": 14,
   "id": "cb4a7e34",
   "metadata": {},
   "outputs": [
    {
     "data": {
      "text/plain": [
       "'#Testing for more than one feature at a time using parametrize function of pytest\\n@pytest.mark.parametrize(\"column, expected\", [(\"feature_1\", {0: 3, 1: 4}), (\"feature_3\", {0: 4, 1: 5.5})])\\ndef test_aggregate_mean_feature_1(column, expected):   \\n    data = load_data()\\n    result = aggregate_mean(data, column)\\n    assert expected == result\\n    \\n'"
      ]
     },
     "execution_count": 14,
     "metadata": {},
     "output_type": "execute_result"
    }
   ],
   "source": [
    "\"\"\"#Testing for more than one feature at a time using parametrize function of pytest\n",
    "@pytest.mark.parametrize(\"column, expected\", [(\"feature_1\", {0: 3, 1: 4}), (\"feature_3\", {0: 4, 1: 5.5})])\n",
    "def test_aggregate_mean_feature_1(column, expected):   \n",
    "    data = load_data()\n",
    "    result = aggregate_mean(data, column)\n",
    "    assert expected == result\n",
    "    \n",
    "\"\"\""
   ]
  }
 ],
 "metadata": {
  "kernelspec": {
   "display_name": "Python 3 (ipykernel)",
   "language": "python",
   "name": "python3"
  },
  "language_info": {
   "codemirror_mode": {
    "name": "ipython",
    "version": 3
   },
   "file_extension": ".py",
   "mimetype": "text/x-python",
   "name": "python",
   "nbconvert_exporter": "python",
   "pygments_lexer": "ipython3",
   "version": "3.8.11"
  }
 },
 "nbformat": 4,
 "nbformat_minor": 5
}
