{
 "cells": [
  {
   "cell_type": "markdown",
   "id": "053c71fd",
   "metadata": {},
   "source": [
    "Refactoring a wine quality dataset which contains data on wine samples. This data is taken from the UCI Machine Learning Repository."
   ]
  },
  {
   "cell_type": "code",
   "execution_count": 5,
   "id": "ce914c0a",
   "metadata": {},
   "outputs": [
    {
     "name": "stdout",
     "output_type": "stream",
     "text": [
      "fixed_acidity\n",
      "high    5.726061\n",
      "low     5.540052\n",
      "Name: quality, dtype: float64 \n",
      "\n",
      "volatile_acidity\n",
      "high    5.392157\n",
      "low     5.890166\n",
      "Name: quality, dtype: float64 \n",
      "\n",
      "citric_acid\n",
      "high    5.822360\n",
      "low     5.447103\n",
      "Name: quality, dtype: float64 \n",
      "\n",
      "residual_sugar\n",
      "high    5.665880\n",
      "low     5.602394\n",
      "Name: quality, dtype: float64 \n",
      "\n",
      "chlorides\n",
      "high    5.507194\n",
      "low     5.776471\n",
      "Name: quality, dtype: float64 \n",
      "\n",
      "free_sulfur_dioxide\n",
      "high    5.595268\n",
      "low     5.677136\n",
      "Name: quality, dtype: float64 \n",
      "\n",
      "total_sulfur_dioxide\n",
      "high    5.522981\n",
      "low     5.750630\n",
      "Name: quality, dtype: float64 \n",
      "\n",
      "density\n",
      "high    5.540574\n",
      "low     5.731830\n",
      "Name: quality, dtype: float64 \n",
      "\n",
      "pH\n",
      "high    5.598039\n",
      "low     5.675607\n",
      "Name: quality, dtype: float64 \n",
      "\n",
      "sulphates\n",
      "high    5.898917\n",
      "low     5.351562\n",
      "Name: quality, dtype: float64 \n",
      "\n",
      "alcohol\n",
      "high    5.958904\n",
      "low     5.310302\n",
      "Name: quality, dtype: float64 \n",
      "\n"
     ]
    }
   ],
   "source": [
    "import pandas as pd\n",
    "df = pd.read_csv(\"C:/Users/Downloads/winequality-red.csv\", sep=';')\n",
    "df.head()\n",
    "\n",
    "## Renaming Columns\n",
    "\n",
    "df.columns = [label.replace(' ', '_') for label in df.columns]\n",
    "df.head()\n",
    "\n",
    "## Analyzing Features\n",
    "\n",
    "def numeric_to_buckets(df, column_name):\n",
    "    median = df[column_name].median()\n",
    "    for i, val in enumerate(df[column_name]):\n",
    "        if val >= median:\n",
    "            df.loc[i, column_name] = 'high'\n",
    "        else:\n",
    "            df.loc[i, column_name] = 'low' \n",
    "\n",
    "for feature in df.columns[:-1]:\n",
    "    numeric_to_buckets(df, feature)\n",
    "    print(df.groupby(feature).quality.mean(), '\\n')"
   ]
  },
  {
   "cell_type": "code",
   "execution_count": null,
   "id": "d14ad6fc",
   "metadata": {},
   "outputs": [],
   "source": [
    "\n"
   ]
  },
  {
   "cell_type": "code",
   "execution_count": null,
   "id": "39ba0c7e",
   "metadata": {},
   "outputs": [],
   "source": []
  }
 ],
 "metadata": {
  "kernelspec": {
   "display_name": "Python 3 (ipykernel)",
   "language": "python",
   "name": "python3"
  },
  "language_info": {
   "codemirror_mode": {
    "name": "ipython",
    "version": 3
   },
   "file_extension": ".py",
   "mimetype": "text/x-python",
   "name": "python",
   "nbconvert_exporter": "python",
   "pygments_lexer": "ipython3",
   "version": "3.8.11"
  }
 },
 "nbformat": 4,
 "nbformat_minor": 5
}
